{
  "nbformat": 4,
  "nbformat_minor": 0,
  "metadata": {
    "colab": {
      "provenance": [],
      "authorship_tag": "ABX9TyMG3BOcnNncUBD929cub5Mf",
      "include_colab_link": true
    },
    "kernelspec": {
      "name": "python3",
      "display_name": "Python 3"
    },
    "language_info": {
      "name": "python"
    }
  },
  "cells": [
    {
      "cell_type": "markdown",
      "metadata": {
        "id": "view-in-github",
        "colab_type": "text"
      },
      "source": [
        "<a href=\"https://colab.research.google.com/github/Aanouki/2024_Geoinformatique_I/blob/main/Untitled0.ipynb\" target=\"_parent\"><img src=\"https://colab.research.google.com/assets/colab-badge.svg\" alt=\"Open In Colab\"/></a>"
      ]
    },
    {
      "cell_type": "code",
      "execution_count": 4,
      "metadata": {
        "colab": {
          "base_uri": "https://localhost:8080/"
        },
        "collapsed": true,
        "id": "cuTn3GdauqBo",
        "outputId": "d5661855-ae7f-4706-f12b-ed28eb3a21bd"
      },
      "outputs": [
        {
          "output_type": "stream",
          "name": "stdout",
          "text": [
            "Requirement already satisfied: pooch in /usr/local/lib/python3.10/dist-packages (1.8.2)\n",
            "Requirement already satisfied: platformdirs>=2.5.0 in /usr/local/lib/python3.10/dist-packages (from pooch) (4.3.6)\n",
            "Requirement already satisfied: packaging>=20.0 in /usr/local/lib/python3.10/dist-packages (from pooch) (24.2)\n",
            "Requirement already satisfied: requests>=2.19.0 in /usr/local/lib/python3.10/dist-packages (from pooch) (2.32.3)\n",
            "Requirement already satisfied: charset-normalizer<4,>=2 in /usr/local/lib/python3.10/dist-packages (from requests>=2.19.0->pooch) (3.4.0)\n",
            "Requirement already satisfied: idna<4,>=2.5 in /usr/local/lib/python3.10/dist-packages (from requests>=2.19.0->pooch) (3.10)\n",
            "Requirement already satisfied: urllib3<3,>=1.21.1 in /usr/local/lib/python3.10/dist-packages (from requests>=2.19.0->pooch) (2.2.3)\n",
            "Requirement already satisfied: certifi>=2017.4.17 in /usr/local/lib/python3.10/dist-packages (from requests>=2.19.0->pooch) (2024.8.30)\n",
            "Requirement already satisfied: geopandas in /usr/local/lib/python3.10/dist-packages (1.0.1)\n",
            "Requirement already satisfied: numpy>=1.22 in /usr/local/lib/python3.10/dist-packages (from geopandas) (1.26.4)\n",
            "Requirement already satisfied: pyogrio>=0.7.2 in /usr/local/lib/python3.10/dist-packages (from geopandas) (0.10.0)\n",
            "Requirement already satisfied: packaging in /usr/local/lib/python3.10/dist-packages (from geopandas) (24.2)\n",
            "Requirement already satisfied: pandas>=1.4.0 in /usr/local/lib/python3.10/dist-packages (from geopandas) (2.2.2)\n",
            "Requirement already satisfied: pyproj>=3.3.0 in /usr/local/lib/python3.10/dist-packages (from geopandas) (3.7.0)\n",
            "Requirement already satisfied: shapely>=2.0.0 in /usr/local/lib/python3.10/dist-packages (from geopandas) (2.0.6)\n",
            "Requirement already satisfied: python-dateutil>=2.8.2 in /usr/local/lib/python3.10/dist-packages (from pandas>=1.4.0->geopandas) (2.8.2)\n",
            "Requirement already satisfied: pytz>=2020.1 in /usr/local/lib/python3.10/dist-packages (from pandas>=1.4.0->geopandas) (2024.2)\n",
            "Requirement already satisfied: tzdata>=2022.7 in /usr/local/lib/python3.10/dist-packages (from pandas>=1.4.0->geopandas) (2024.2)\n",
            "Requirement already satisfied: certifi in /usr/local/lib/python3.10/dist-packages (from pyogrio>=0.7.2->geopandas) (2024.8.30)\n",
            "Requirement already satisfied: six>=1.5 in /usr/local/lib/python3.10/dist-packages (from python-dateutil>=2.8.2->pandas>=1.4.0->geopandas) (1.16.0)\n"
          ]
        }
      ],
      "source": [
        "!pip install pooch\n",
        "!pip install geopandas"
      ]
    },
    {
      "cell_type": "code",
      "source": [
        "import pooch\n",
        "import geopandas as gpd\n",
        "import pandas as pd\n",
        "import os"
      ],
      "metadata": {
        "id": "zVC4F3dtvB8V"
      },
      "execution_count": 1,
      "outputs": []
    },
    {
      "cell_type": "code",
      "source": [
        "data_files = pooch.retrieve(\n",
        "    url = \"https://files.swisscarto.ch/geoinf1/vd_dgav_surfaces_agricoles.zip\",\n",
        "    known_hash = None,\n",
        "    processor = pooch.Unzip()\n",
        ")"
      ],
      "metadata": {
        "id": "zfxGassmvL0X",
        "collapsed": true
      },
      "execution_count": 21,
      "outputs": []
    },
    {
      "cell_type": "code",
      "source": [
        "from google.colab import files\n",
        "uploaded = files.upload()"
      ],
      "metadata": {
        "id": "yAm7nSj1vrDE"
      },
      "execution_count": null,
      "outputs": []
    },
    {
      "cell_type": "markdown",
      "source": [
        "Si le fichier a importer est trop volumineux il est possible de l'importer manuellement en allant dans les dossiers de google Colab et de rajouter manuellement le geopackage."
      ],
      "metadata": {
        "id": "zMbW1mT71vyk"
      }
    },
    {
      "cell_type": "code",
      "source": [
        "import pyogrio"
      ],
      "metadata": {
        "id": "CxmVYajl7Mb_"
      },
      "execution_count": 19,
      "outputs": []
    },
    {
      "cell_type": "code",
      "source": [
        "data_files_path = [f for f in data_files if f.endswith('.gpkg')][0]\n"
      ],
      "metadata": {
        "id": "rRaH0UTV71DF"
      },
      "execution_count": 24,
      "outputs": []
    },
    {
      "cell_type": "code",
      "source": [
        "pyogrio.list_layers(data_files_path)"
      ],
      "metadata": {
        "colab": {
          "base_uri": "https://localhost:8080/"
        },
        "collapsed": true,
        "id": "vDJ7-joJ7hGU",
        "outputId": "0f450bfc-67af-4bf7-c6b4-daf312f580ec"
      },
      "execution_count": 26,
      "outputs": [
        {
          "output_type": "execute_result",
          "data": {
            "text/plain": [
              "array([['agr_dgav_sau', 'MultiPolygon'],\n",
              "       ['agr_dgav_prom_biodiv_reseau', 'MultiPolygon'],\n",
              "       ['agr_dgav_surface_estivage', 'MultiPolygon']], dtype=object)"
            ]
          },
          "metadata": {},
          "execution_count": 26
        }
      ]
    },
    {
      "cell_type": "code",
      "source": [
        "surfaces_agricoles = gpd.read_file(data_files_path,  layer='agr_dgav_sau')\n",
        "print(surfaces_agricoles.head())"
      ],
      "metadata": {
        "colab": {
          "base_uri": "https://localhost:8080/"
        },
        "collapsed": true,
        "id": "TvhoLO2L8VFl",
        "outputId": "28048299-279c-4d83-f47e-cc2650240f62"
      },
      "execution_count": 27,
      "outputs": [
        {
          "output_type": "stream",
          "name": "stdout",
          "text": [
            "       ident                                           geometry\n",
            "0  vd_406924  MULTIPOLYGON (((2499165.727 1130275.64, 249915...\n",
            "1   vd_49133  MULTIPOLYGON (((2499231.401 1130487.699, 24990...\n",
            "2  vd_209293  MULTIPOLYGON (((2499247.82 1130502.629, 249932...\n",
            "3  vd_209482  MULTIPOLYGON (((2499336.069 1130608.47, 249937...\n",
            "4  vd_450638  MULTIPOLYGON (((2499262.497 1131049.141, 24992...\n"
          ]
        }
      ]
    },
    {
      "cell_type": "code",
      "source": [
        "pyogrio.list_layers(geoinf-proj-ze-8701)"
      ],
      "metadata": {
        "colab": {
          "base_uri": "https://localhost:8080/",
          "height": 139
        },
        "id": "7TE0KX9H8mwP",
        "outputId": "fe007ea0-3424-4c97-fb63-faae768d6293"
      },
      "execution_count": 33,
      "outputs": [
        {
          "output_type": "error",
          "ename": "NameError",
          "evalue": "name 'geoinf' is not defined",
          "traceback": [
            "\u001b[0;31m---------------------------------------------------------------------------\u001b[0m",
            "\u001b[0;31mNameError\u001b[0m                                 Traceback (most recent call last)",
            "\u001b[0;32m<ipython-input-33-77fd4f68b3f5>\u001b[0m in \u001b[0;36m<cell line: 1>\u001b[0;34m()\u001b[0m\n\u001b[0;32m----> 1\u001b[0;31m \u001b[0mpyogrio\u001b[0m\u001b[0;34m.\u001b[0m\u001b[0mlist_layers\u001b[0m\u001b[0;34m(\u001b[0m\u001b[0mgeoinf\u001b[0m\u001b[0;34m-\u001b[0m\u001b[0mproj\u001b[0m\u001b[0;34m-\u001b[0m\u001b[0mze\u001b[0m\u001b[0;34m-\u001b[0m\u001b[0;36m8701\u001b[0m\u001b[0;34m)\u001b[0m\u001b[0;34m\u001b[0m\u001b[0;34m\u001b[0m\u001b[0m\n\u001b[0m",
            "\u001b[0;31mNameError\u001b[0m: name 'geoinf' is not defined"
          ]
        }
      ]
    }
  ]
}